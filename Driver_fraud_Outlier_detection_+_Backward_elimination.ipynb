{
  "nbformat": 4,
  "nbformat_minor": 0,
  "metadata": {
    "colab": {
      "name": "Driver fraud: Outlier detection + Backward elimination",
      "provenance": [],
      "collapsed_sections": []
    },
    "kernelspec": {
      "name": "python3",
      "display_name": "Python 3"
    }
  },
  "cells": [
    {
      "cell_type": "code",
      "metadata": {
        "id": "qTmJbqaEJFpM",
        "colab": {
          "base_uri": "https://localhost:8080/",
          "height": 34
        },
        "outputId": "d7ad0cc1-6de7-4eea-b5e7-92a5a2a3ff19"
      },
      "source": [
        "from google.colab import auth\n",
        "auth.authenticate_user()\n",
        "print('Authenticated')"
      ],
      "execution_count": null,
      "outputs": [
        {
          "output_type": "stream",
          "text": [
            "Authenticated\n"
          ],
          "name": "stdout"
        }
      ]
    },
    {
      "cell_type": "code",
      "metadata": {
        "id": "DmiKGUs1K87J"
      },
      "source": [
        "%%bigquery --project bi-gojek df3\n",
        "WITH\n",
        "date_list AS\n",
        "(\n",
        "  SELECT DATE('2020-06-04') ref_date0, \n",
        "         DATE('2020-06-14') ref_date1\n",
        "),\n",
        "\n",
        "calc_dexguard as(\n",
        "select\n",
        "  d1,\n",
        "  'dexguard' as key,\n",
        "  count(distinct CONCAT(x_owner_id, \" \", x_owner_type)) as conn_account,\n",
        "  array_agg(distinct CONCAT(x_owner_id, \" \", x_owner_type)) as accounts_list\n",
        "from `staging.fd_mdf_fingerprint_feature_flat` \n",
        "where true\n",
        "and date(updated_time) between (select ref_date0 from date_list) and (select ref_date1 from date_list)\n",
        "-- exclude empty and nulls dexguard due to coverage issues, also iOS users have null dexguards\n",
        "and d1 is not null \n",
        "and d1 <> ''\n",
        "-- THIS IS OPTIONAL depending on what type of users you want to get the connected accounts of\n",
        "group by 1\n",
        "),\n",
        "\n",
        "calc_uniqueid as(\n",
        "select\n",
        "  x_uniqueid,\n",
        "  'unique_id' as key,\n",
        "  count(distinct CONCAT(x_owner_id, \" \", x_owner_type)) as conn_account,\n",
        "  array_agg(distinct CONCAT(x_owner_id, \" \", x_owner_type)) as accounts_list\n",
        "from `staging.fd_mdf_fingerprint_feature_flat` \n",
        "where true\n",
        "and date(updated_time) between (select ref_date0 from date_list) and (select ref_date1 from date_list)\n",
        "-- exclude empty and nulls\n",
        "and x_uniqueid is not null\n",
        "and x_uniqueid <> ''\n",
        "-- THIS IS OPTIONAL depending on what type of users you want to get the connected accounts of\n",
        "group by 1\n",
        "),\n",
        "\n",
        "calc_serial_number as(\n",
        "select\n",
        "  device_serial_number,\n",
        "  'serial_number' as key,\n",
        "  count(distinct CONCAT(x_owner_id, \" \", x_owner_type)) as conn_account,\n",
        "  array_agg(distinct CONCAT(x_owner_id, \" \", x_owner_type)) as accounts_list\n",
        "from `staging.fd_mdf_fingerprint_feature_flat` \n",
        "where true\n",
        "and date(updated_time) between (select ref_date0 from date_list) and (select ref_date1 from date_list)\n",
        "-- exclude empty and nulls\n",
        "and device_serial_number is not null\n",
        "and device_serial_number not in ('UNKNOWN','','unknown','0123456789ABCDEF','100000000000000','0123456789')\n",
        "-- THIS IS OPTIONAL depending on what type of users you want to get the connected accounts of\n",
        "group by 1\n",
        "),\n",
        "\n",
        "calc_widevine_wifi_mac_address as( -- being treated as a composite key\n",
        "select\n",
        "  widevine_id,\n",
        "  wifi_mac_address,\n",
        "  'widevine+wifi_mac_address' as key,\n",
        "  count(distinct CONCAT(x_owner_id, \" \", x_owner_type)) as conn_account,\n",
        "  array_agg(distinct CONCAT(x_owner_id, \" \", x_owner_type)) as accounts_list\n",
        "from `staging.fd_mdf_fingerprint_feature_flat` \n",
        "where true\n",
        "and date(updated_time) between (select ref_date0 from date_list) and (select ref_date1 from date_list)\n",
        "-- exclude empty and nulls dexguard due to coverage issues\n",
        "and widevine_id is not null\n",
        "and widevine_id not in ('UNKNOWN','')\n",
        "and wifi_mac_address is not null\n",
        "and wifi_mac_address not in ('UNKNOWN','','02:00:00:00:00:00','00:00:00:00:00:00')\n",
        "-- THIS IS OPTIONAL depending on what type of users you want to get the connected accounts of\n",
        "group by 1,2\n",
        "),\n",
        "\n",
        "combine as(\n",
        "select\n",
        "  account_id,\n",
        "  key,\n",
        "  conn_account\n",
        "from calc_dexguard, unnest(accounts_list) as account_id\n",
        "union all\n",
        "select\n",
        "  account_id,\n",
        "  key,\n",
        "  conn_account\n",
        "from calc_uniqueid, unnest(accounts_list) as account_id\n",
        "union all\n",
        "select\n",
        "  account_id,\n",
        "  key,\n",
        "  conn_account\n",
        "from calc_serial_number, unnest(accounts_list) as account_id\n",
        "union all\n",
        "select\n",
        "  account_id,\n",
        "  key,\n",
        "  conn_account\n",
        "from calc_widevine_wifi_mac_address, unnest(accounts_list) as account_id\n",
        "),\n",
        "customer_connected_devices AS (\n",
        "SELECT \n",
        "TRIM(a.account_id, \"customer\") as customer_id,\n",
        "max(conn_account) as conn_accounts\n",
        "FROM combine a\n",
        "left join `bi-gojek.reference.dd_customer` b  on TRIM(a.account_id, \"customer\") = cast(b.customer_id as STRING)\n",
        "WHERE account_id like \"%customer\"\n",
        "GROUP BY 1\n",
        "),\n",
        "\n",
        "driver_connected_devices AS (\n",
        "SELECT \n",
        "TRIM(a.account_id, \"driver\") as driver_id,\n",
        "max(conn_account) as conn_accounts\n",
        "FROM combine a\n",
        "left join `bi-gojek.reference.dd_driver` b  on TRIM(a.account_id, \"driver\") = cast(b.id as STRING)\n",
        "WHERE account_id like \"%driver\"\n",
        "GROUP BY 1\n",
        "),\n",
        "customer_info AS \n",
        "(\n",
        "  SELECT customer_id, DATE(customer_created_at) AS customer_created_date,\n",
        "  FROM `bi-gojek.reference.dd_customer`\n",
        "),\n",
        "\n",
        "customer_sanction_summary as \n",
        "(\n",
        "  SELECT \n",
        "      target_id as customer_id, \n",
        "      sum(if(lower(action_name) IN ('suspenddriver', 'firedriver'),1,0)) sanction_cnt,\n",
        "  FROM `bi-gojek.stream.fr_beast_sanction_execution_log`\n",
        "  where DATE(event_timestamp) between (select ref_date0 from date_list) and (select ref_date1 from date_list)\n",
        "  AND target_type = 'customer'\n",
        "  GROUP BY 1\n",
        "),\n",
        "  \n",
        "driver_sanction_summary as \n",
        "(\n",
        "  SELECT \n",
        "      target_id as driver_id, \n",
        "      sum(if(lower(action_name) IN ('suspenddriver', 'firedriver'),1,0)) sanction_cnt,\n",
        "  FROM `bi-gojek.stream.fr_beast_sanction_execution_log`\n",
        "  where DATE(event_timestamp) between (select ref_date0 from date_list) and (select ref_date1 from date_list)\n",
        "  AND target_type = 'driver'\n",
        "  GROUP BY 1\n",
        "),\n",
        "\n",
        "driver_co_per_s2id AS (\n",
        "  SELECT driver_id,\n",
        "    booking_destination_s2id,\n",
        "    count(distinct order_no) as co_per_s2id\n",
        "  FROM `bi-gojek.access.sd_gofood_booking` AS t0\n",
        "  WHERE DATE(t0._PARTITIONTIME) between (select ref_date0 from date_list) and (select ref_date1 from date_list)\n",
        "  GROUP BY 1, 2\n",
        "),\n",
        "\n",
        "drivermerchant_co_per_s2id AS (SELECT driver_id, merchant_id,\n",
        "booking_destination_s2id,\n",
        "count(distinct order_no) as co_per_s2id\n",
        "FROM `bi-gojek.access.sd_gofood_booking` AS t0\n",
        "WHERE DATE(t0._PARTITIONTIME) between (select ref_date0 from date_list) and (select ref_date1 from date_list)\n",
        "GROUP BY 1, 2, 3\n",
        "),\n",
        "\n",
        "receipt_data as \n",
        "(SELECT order_number,\n",
        "   is_receipt_label, is_receipt,prediction_score, event_timestamp\n",
        "   ,RANK() OVER(PARTITION BY order_number ORDER BY event_timestamp DESC) data_rank\n",
        "from `bi-gojek.stream.fr_beast_go_food_fraud_receipt_multiclass_detection`\n",
        "where DATE(event_timestamp) between (select ref_date0 from date_list) and (select ref_date1 from date_list)\n",
        "),\n",
        "\n",
        "\n",
        "driver_level_features AS\n",
        "( SELECT driver_id, \n",
        "    AVG(co_per_s2id) as d_co_per_s2id,\n",
        "    COUNT(DISTINCT CASE WHEN DATE_DIFF(t0.booking_date, t2.customer_created_date, DAY) <= 7 THEN t2.customer_id ELSE NULL END) as d_unique_new_customer_cnt,\n",
        "    SAFE_DIVIDE(COUNT(CASE WHEN DATE_DIFF(t0.booking_date, t2.customer_created_date, DAY) <= 7 THEN order_no ELSE NULL END), COUNT(*)) as d_new_cust_order_pct,\n",
        "    SAFE_DIVIDE(COUNT(CASE WHEN voucher_id IS NOT NULL AND t0.status_id = 3 THEN 1 ELSE NULL END), COUNT(*)) AS d_voucher_pct,\n",
        "    SAFE_DIVIDE(COUNT(CASE WHEN t3.sanction_cnt>0 THEN order_no ELSE NULL END), COUNT(*)) d_cmpltorders_from_suspicious_customer_pct, \n",
        "    count(distinct order_no) as d_bad_receipt_cnt\n",
        "  FROM `bi-gojek.access.sd_gofood_booking` AS t0\n",
        "    LEFT JOIN driver_co_per_s2id as t1 USING(driver_id) \n",
        "    LEFT JOIN customer_info AS t2 ON t2.customer_id = t0.customer_id\n",
        "    LEFT JOIN customer_sanction_summary AS t3 ON cast(t0.customer_id as string) = t3.customer_id\n",
        "    left join receipt_data b on t0.order_no=b.order_number\n",
        "    WHERE DATE(t0._PARTITIONTIME) between (select ref_date0 from date_list) and (select ref_date1 from date_list)\n",
        "    AND t0.status_id = 3\n",
        "    AND data_rank=1\n",
        "    AND is_receipt_label = 'random'\n",
        "    AND prediction_score >0.9\n",
        "    GROUP BY 1\n",
        "),\n",
        "\n",
        "\n",
        "merchant_driver_fraud_signal AS \n",
        "(\n",
        "  SELECT \n",
        "    t0.driver_id, t0.merchant_id,\n",
        "    COUNT(DISTINCT CASE WHEN DATE_DIFF(t0.booking_date, t1.customer_created_date, DAY) <= 7 THEN t1.customer_id ELSE NULL END) as dm_unique_new_customer_cnt,\n",
        "    SAFE_DIVIDE(COUNT(CASE WHEN DATE_DIFF(t0.booking_date, t1.customer_created_date, DAY) <= 7 THEN order_no ELSE NULL END), COUNT(*)) as dm_new_cust_order_pct,\n",
        "    SAFE_DIVIDE(COUNT(CASE WHEN t2.sanction_cnt>0 THEN order_no ELSE NULL END), COUNT(*)) dm_cmpltorders_from_suspicious_customer_pct,\n",
        "    SAFE_DIVIDE(COUNT(CASE WHEN payment_method_name = 'CASH' THEN 1 ELSE NULL END), COUNT(*)) AS dm_cash_order_pct,\n",
        "    SAFE_DIVIDE(COUNT(CASE WHEN voucher_id IS NOT NULL THEN 1 ELSE NULL END), COUNT(*)) AS dm_voucher_pct,\n",
        "    AVG(t3.co_per_s2id) as dm_avg_co_per_s2ID,\n",
        "    count(distinct order_no) as dm_bad_receipt_cnt,\n",
        "--     AVG(t5.conn_accounts) as dm_avg_cust_conn_accounts\n",
        "  FROM `bi-gojek.access.sd_gofood_booking` AS t0\n",
        "    LEFT JOIN customer_info AS t1 ON t1.customer_id = t0.customer_id\n",
        "    LEFT JOIN customer_sanction_summary AS t2 ON cast(t0.customer_id as string) = t2.customer_id\n",
        "    LEFT JOIN drivermerchant_co_per_s2id t3 ON t0.driver_id = t3.driver_id AND t0.merchant_id = t3.merchant_id\n",
        "    left join receipt_data b on t0.order_no=b.order_number\n",
        "    LEFT JOIN customer_connected_devices AS t5 ON t5.customer_id = cast(t0.customer_id as string)\n",
        "    WHERE DATE(t0._PARTITIONTIME) between (select ref_date0 from date_list) and (select ref_date1 from date_list)\n",
        "    AND t0.status_id = 3\n",
        "    AND  data_rank=1\n",
        "    AND is_receipt_label = 'random'\n",
        "    AND prediction_score >0.9\n",
        "    GROUP BY 1, 2\n",
        ")\n",
        "\n",
        "SELECT \n",
        "  distinct\n",
        "  t0.*, \n",
        "  t1.* except(driver_id),\n",
        "  t2.triangle_count,\n",
        "--   t3.conn_accounts\n",
        "FROM merchant_driver_fraud_signal AS t0 \n",
        "LEFT JOIN driver_level_features AS t1 USING(driver_id)\n",
        "LEFT JOIN `bi-gojek.stream.fr_beast_falcon_score` as t2 ON t2.resource_id = t0.driver_id\n",
        "LEFT JOIN driver_connected_devices as t3 ON cast(t0.driver_id as string) = t3.driver_id\n",
        "WHERE t2.version IN ('Falcon v0.2.0 (Triangle 1 Week)')\n",
        "\n",
        "LIMIT 100000"
      ],
      "execution_count": null,
      "outputs": []
    },
    {
      "cell_type": "code",
      "metadata": {
        "id": "tFJaFqeb4M6w",
        "colab": {
          "base_uri": "https://localhost:8080/",
          "height": 439
        },
        "outputId": "4d7d89ac-7302-4807-ee58-aea554e00173"
      },
      "source": [
        "df3"
      ],
      "execution_count": null,
      "outputs": [
        {
          "output_type": "execute_result",
          "data": {
            "text/html": [
              "<div>\n",
              "<style scoped>\n",
              "    .dataframe tbody tr th:only-of-type {\n",
              "        vertical-align: middle;\n",
              "    }\n",
              "\n",
              "    .dataframe tbody tr th {\n",
              "        vertical-align: top;\n",
              "    }\n",
              "\n",
              "    .dataframe thead th {\n",
              "        text-align: right;\n",
              "    }\n",
              "</style>\n",
              "<table border=\"1\" class=\"dataframe\">\n",
              "  <thead>\n",
              "    <tr style=\"text-align: right;\">\n",
              "      <th></th>\n",
              "      <th>driver_id</th>\n",
              "      <th>merchant_id</th>\n",
              "      <th>dm_unique_new_customer_cnt</th>\n",
              "      <th>dm_new_cust_order_pct</th>\n",
              "      <th>dm_cmpltorders_from_suspicious_customer_pct</th>\n",
              "      <th>dm_cash_order_pct</th>\n",
              "      <th>dm_voucher_pct</th>\n",
              "      <th>dm_avg_co_per_s2ID</th>\n",
              "      <th>dm_bad_receipt_cnt</th>\n",
              "      <th>d_co_per_s2id</th>\n",
              "      <th>d_unique_new_customer_cnt</th>\n",
              "      <th>d_new_cust_order_pct</th>\n",
              "      <th>d_voucher_pct</th>\n",
              "      <th>d_cmpltorders_from_suspicious_customer_pct</th>\n",
              "      <th>d_bad_receipt_cnt</th>\n",
              "      <th>triangle_count</th>\n",
              "    </tr>\n",
              "  </thead>\n",
              "  <tbody>\n",
              "    <tr>\n",
              "      <th>0</th>\n",
              "      <td>540232345</td>\n",
              "      <td>542874335</td>\n",
              "      <td>0</td>\n",
              "      <td>0.0</td>\n",
              "      <td>0.0</td>\n",
              "      <td>0.0</td>\n",
              "      <td>0.0</td>\n",
              "      <td>1.000</td>\n",
              "      <td>2</td>\n",
              "      <td>1.950000</td>\n",
              "      <td>0</td>\n",
              "      <td>0.000000</td>\n",
              "      <td>0.073171</td>\n",
              "      <td>0.0</td>\n",
              "      <td>41</td>\n",
              "      <td>4.0</td>\n",
              "    </tr>\n",
              "    <tr>\n",
              "      <th>1</th>\n",
              "      <td>540232345</td>\n",
              "      <td>543254804</td>\n",
              "      <td>0</td>\n",
              "      <td>0.0</td>\n",
              "      <td>0.0</td>\n",
              "      <td>1.0</td>\n",
              "      <td>0.0</td>\n",
              "      <td>1.000</td>\n",
              "      <td>1</td>\n",
              "      <td>1.950000</td>\n",
              "      <td>0</td>\n",
              "      <td>0.000000</td>\n",
              "      <td>0.073171</td>\n",
              "      <td>0.0</td>\n",
              "      <td>41</td>\n",
              "      <td>4.0</td>\n",
              "    </tr>\n",
              "    <tr>\n",
              "      <th>2</th>\n",
              "      <td>540232345</td>\n",
              "      <td>542840818</td>\n",
              "      <td>0</td>\n",
              "      <td>0.0</td>\n",
              "      <td>0.0</td>\n",
              "      <td>0.0</td>\n",
              "      <td>0.0</td>\n",
              "      <td>1.000</td>\n",
              "      <td>1</td>\n",
              "      <td>1.950000</td>\n",
              "      <td>0</td>\n",
              "      <td>0.000000</td>\n",
              "      <td>0.073171</td>\n",
              "      <td>0.0</td>\n",
              "      <td>41</td>\n",
              "      <td>5.0</td>\n",
              "    </tr>\n",
              "    <tr>\n",
              "      <th>3</th>\n",
              "      <td>540232345</td>\n",
              "      <td>543371358</td>\n",
              "      <td>0</td>\n",
              "      <td>0.0</td>\n",
              "      <td>0.0</td>\n",
              "      <td>0.0</td>\n",
              "      <td>0.0</td>\n",
              "      <td>1.000</td>\n",
              "      <td>1</td>\n",
              "      <td>1.950000</td>\n",
              "      <td>0</td>\n",
              "      <td>0.000000</td>\n",
              "      <td>0.073171</td>\n",
              "      <td>0.0</td>\n",
              "      <td>41</td>\n",
              "      <td>1.0</td>\n",
              "    </tr>\n",
              "    <tr>\n",
              "      <th>4</th>\n",
              "      <td>540232345</td>\n",
              "      <td>542880067</td>\n",
              "      <td>0</td>\n",
              "      <td>0.0</td>\n",
              "      <td>0.0</td>\n",
              "      <td>0.5</td>\n",
              "      <td>0.0</td>\n",
              "      <td>1.125</td>\n",
              "      <td>2</td>\n",
              "      <td>1.950000</td>\n",
              "      <td>0</td>\n",
              "      <td>0.000000</td>\n",
              "      <td>0.073171</td>\n",
              "      <td>0.0</td>\n",
              "      <td>41</td>\n",
              "      <td>4.0</td>\n",
              "    </tr>\n",
              "    <tr>\n",
              "      <th>...</th>\n",
              "      <td>...</td>\n",
              "      <td>...</td>\n",
              "      <td>...</td>\n",
              "      <td>...</td>\n",
              "      <td>...</td>\n",
              "      <td>...</td>\n",
              "      <td>...</td>\n",
              "      <td>...</td>\n",
              "      <td>...</td>\n",
              "      <td>...</td>\n",
              "      <td>...</td>\n",
              "      <td>...</td>\n",
              "      <td>...</td>\n",
              "      <td>...</td>\n",
              "      <td>...</td>\n",
              "      <td>...</td>\n",
              "    </tr>\n",
              "    <tr>\n",
              "      <th>93738</th>\n",
              "      <td>541947560</td>\n",
              "      <td>542623113</td>\n",
              "      <td>0</td>\n",
              "      <td>0.0</td>\n",
              "      <td>0.0</td>\n",
              "      <td>0.5</td>\n",
              "      <td>0.0</td>\n",
              "      <td>1.000</td>\n",
              "      <td>2</td>\n",
              "      <td>2.338462</td>\n",
              "      <td>1</td>\n",
              "      <td>0.015385</td>\n",
              "      <td>0.200000</td>\n",
              "      <td>0.0</td>\n",
              "      <td>65</td>\n",
              "      <td>27.0</td>\n",
              "    </tr>\n",
              "    <tr>\n",
              "      <th>93739</th>\n",
              "      <td>541947560</td>\n",
              "      <td>542563467</td>\n",
              "      <td>0</td>\n",
              "      <td>0.0</td>\n",
              "      <td>0.0</td>\n",
              "      <td>1.0</td>\n",
              "      <td>0.0</td>\n",
              "      <td>1.000</td>\n",
              "      <td>1</td>\n",
              "      <td>2.338462</td>\n",
              "      <td>1</td>\n",
              "      <td>0.015385</td>\n",
              "      <td>0.200000</td>\n",
              "      <td>0.0</td>\n",
              "      <td>65</td>\n",
              "      <td>18.0</td>\n",
              "    </tr>\n",
              "    <tr>\n",
              "      <th>93740</th>\n",
              "      <td>541947560</td>\n",
              "      <td>542563467</td>\n",
              "      <td>0</td>\n",
              "      <td>0.0</td>\n",
              "      <td>0.0</td>\n",
              "      <td>1.0</td>\n",
              "      <td>0.0</td>\n",
              "      <td>1.000</td>\n",
              "      <td>1</td>\n",
              "      <td>2.338462</td>\n",
              "      <td>1</td>\n",
              "      <td>0.015385</td>\n",
              "      <td>0.200000</td>\n",
              "      <td>0.0</td>\n",
              "      <td>65</td>\n",
              "      <td>14.0</td>\n",
              "    </tr>\n",
              "    <tr>\n",
              "      <th>93741</th>\n",
              "      <td>541947560</td>\n",
              "      <td>542563467</td>\n",
              "      <td>0</td>\n",
              "      <td>0.0</td>\n",
              "      <td>0.0</td>\n",
              "      <td>1.0</td>\n",
              "      <td>0.0</td>\n",
              "      <td>1.000</td>\n",
              "      <td>1</td>\n",
              "      <td>2.338462</td>\n",
              "      <td>1</td>\n",
              "      <td>0.015385</td>\n",
              "      <td>0.200000</td>\n",
              "      <td>0.0</td>\n",
              "      <td>65</td>\n",
              "      <td>1.0</td>\n",
              "    </tr>\n",
              "    <tr>\n",
              "      <th>93742</th>\n",
              "      <td>541947560</td>\n",
              "      <td>542603591</td>\n",
              "      <td>0</td>\n",
              "      <td>0.0</td>\n",
              "      <td>0.0</td>\n",
              "      <td>0.0</td>\n",
              "      <td>0.0</td>\n",
              "      <td>1.000</td>\n",
              "      <td>1</td>\n",
              "      <td>2.338462</td>\n",
              "      <td>1</td>\n",
              "      <td>0.015385</td>\n",
              "      <td>0.200000</td>\n",
              "      <td>0.0</td>\n",
              "      <td>65</td>\n",
              "      <td>27.0</td>\n",
              "    </tr>\n",
              "  </tbody>\n",
              "</table>\n",
              "<p>93743 rows × 16 columns</p>\n",
              "</div>"
            ],
            "text/plain": [
              "       driver_id  merchant_id  ...  d_bad_receipt_cnt  triangle_count\n",
              "0      540232345    542874335  ...                 41             4.0\n",
              "1      540232345    543254804  ...                 41             4.0\n",
              "2      540232345    542840818  ...                 41             5.0\n",
              "3      540232345    543371358  ...                 41             1.0\n",
              "4      540232345    542880067  ...                 41             4.0\n",
              "...          ...          ...  ...                ...             ...\n",
              "93738  541947560    542623113  ...                 65            27.0\n",
              "93739  541947560    542563467  ...                 65            18.0\n",
              "93740  541947560    542563467  ...                 65            14.0\n",
              "93741  541947560    542563467  ...                 65             1.0\n",
              "93742  541947560    542603591  ...                 65            27.0\n",
              "\n",
              "[93743 rows x 16 columns]"
            ]
          },
          "metadata": {
            "tags": []
          },
          "execution_count": 66
        }
      ]
    },
    {
      "cell_type": "code",
      "metadata": {
        "id": "nYxvXogzLBjE",
        "colab": {
          "base_uri": "https://localhost:8080/",
          "height": 71
        },
        "outputId": "25f4a2a6-bc50-4b2d-e42a-bd692867499b"
      },
      "source": [
        "import pandas as pd\n",
        "import seaborn as sns\n",
        "import numpy as np\n",
        "import matplotlib.pyplot as plt\n",
        "\n",
        "from google.colab import files\n",
        "from sklearn import preprocessing\n",
        "from sklearn.ensemble import IsolationForest\n",
        "from sklearn.preprocessing import StandardScaler\n",
        "from sklearn.decomposition import PCA\n",
        "from sklearn.model_selection import train_test_split\n",
        "from sklearn.pipeline import make_pipeline"
      ],
      "execution_count": null,
      "outputs": [
        {
          "output_type": "stream",
          "text": [
            "/usr/local/lib/python3.6/dist-packages/statsmodels/tools/_testing.py:19: FutureWarning: pandas.util.testing is deprecated. Use the functions in the public API at pandas.testing instead.\n",
            "  import pandas.util.testing as tm\n"
          ],
          "name": "stderr"
        }
      ]
    },
    {
      "cell_type": "markdown",
      "metadata": {
        "id": "yo3raXcNgxj9"
      },
      "source": [
        "Defining functions"
      ]
    },
    {
      "cell_type": "code",
      "metadata": {
        "id": "5bddNTX8XABf"
      },
      "source": [
        "def data_to_csv(data):\n",
        "  data.to_csv(\"output.csv\")\n",
        "  files.download(\"output.csv\")"
      ],
      "execution_count": null,
      "outputs": []
    },
    {
      "cell_type": "code",
      "metadata": {
        "id": "UKZJphPURMgb"
      },
      "source": [
        "scaler = StandardScaler()\n",
        "pca = PCA(n_components=0.835)\n",
        "std_pca = make_pipeline(scaler, pca)"
      ],
      "execution_count": null,
      "outputs": []
    },
    {
      "cell_type": "markdown",
      "metadata": {
        "id": "MxVXbKwtfOwZ"
      },
      "source": [
        "Data preparation"
      ]
    },
    {
      "cell_type": "code",
      "metadata": {
        "id": "XHl6DWhizRXu",
        "colab": {
          "base_uri": "https://localhost:8080/",
          "height": 69
        },
        "outputId": "72ffd53d-b550-4e05-fa43-3c2e4d8250a3"
      },
      "source": [
        "df"
      ],
      "execution_count": null,
      "outputs": [
        {
          "output_type": "execute_result",
          "data": {
            "text/html": [
              "<div>\n",
              "<style scoped>\n",
              "    .dataframe tbody tr th:only-of-type {\n",
              "        vertical-align: middle;\n",
              "    }\n",
              "\n",
              "    .dataframe tbody tr th {\n",
              "        vertical-align: top;\n",
              "    }\n",
              "\n",
              "    .dataframe thead th {\n",
              "        text-align: right;\n",
              "    }\n",
              "</style>\n",
              "<table border=\"1\" class=\"dataframe\">\n",
              "  <thead>\n",
              "    <tr style=\"text-align: right;\">\n",
              "      <th></th>\n",
              "      <th>driver_id</th>\n",
              "      <th>merchant_id</th>\n",
              "      <th>dm_unique_new_customer_cnt</th>\n",
              "      <th>dm_new_cust_order_pct</th>\n",
              "      <th>dm_cmpltorders_from_suspicious_customer_pct</th>\n",
              "      <th>dm_cash_order_pct</th>\n",
              "      <th>dm_voucher_pct</th>\n",
              "      <th>dm_avg_co_per_s2ID</th>\n",
              "      <th>dm_bad_receipt_cnt</th>\n",
              "      <th>d_co_per_s2id</th>\n",
              "      <th>d_unique_new_customer_cnt</th>\n",
              "      <th>d_new_cust_order_pct</th>\n",
              "      <th>d_voucher_pct</th>\n",
              "      <th>d_cmpltorders_from_suspicious_customer_pct</th>\n",
              "      <th>d_bad_receipt_cnt</th>\n",
              "      <th>triangle_count</th>\n",
              "    </tr>\n",
              "  </thead>\n",
              "  <tbody>\n",
              "  </tbody>\n",
              "</table>\n",
              "</div>"
            ],
            "text/plain": [
              "Empty DataFrame\n",
              "Columns: [driver_id, merchant_id, dm_unique_new_customer_cnt, dm_new_cust_order_pct, dm_cmpltorders_from_suspicious_customer_pct, dm_cash_order_pct, dm_voucher_pct, dm_avg_co_per_s2ID, dm_bad_receipt_cnt, d_co_per_s2id, d_unique_new_customer_cnt, d_new_cust_order_pct, d_voucher_pct, d_cmpltorders_from_suspicious_customer_pct, d_bad_receipt_cnt, triangle_count]\n",
              "Index: []"
            ]
          },
          "metadata": {
            "tags": []
          },
          "execution_count": 30
        }
      ]
    },
    {
      "cell_type": "code",
      "metadata": {
        "id": "hML-8AK2S1-n"
      },
      "source": [
        "df1 = df3.drop(columns=['d_cmpltorders_from_suspicious_customer_pct', 'dm_cmpltorders_from_suspicious_customer_pct'])\n",
        "train_set = df1.dropna()\n",
        "X_train_pure, X_test_pure = train_test_split(df2, test_size=0.33, random_state=42)\n",
        "train_set = X_train_pure.drop(columns=['driver_id', 'merchant_id'])\n",
        "test_set = X_test_pure.drop(columns=['driver_id', 'merchant_id'])"
      ],
      "execution_count": null,
      "outputs": []
    },
    {
      "cell_type": "code",
      "metadata": {
        "id": "IYFfPSHP3OLo",
        "colab": {
          "base_uri": "https://localhost:8080/",
          "height": 439
        },
        "outputId": "da9d1377-87e3-4ab2-fdc0-b70f7fc55f60"
      },
      "source": [
        "train_set"
      ],
      "execution_count": null,
      "outputs": [
        {
          "output_type": "execute_result",
          "data": {
            "text/html": [
              "<div>\n",
              "<style scoped>\n",
              "    .dataframe tbody tr th:only-of-type {\n",
              "        vertical-align: middle;\n",
              "    }\n",
              "\n",
              "    .dataframe tbody tr th {\n",
              "        vertical-align: top;\n",
              "    }\n",
              "\n",
              "    .dataframe thead th {\n",
              "        text-align: right;\n",
              "    }\n",
              "</style>\n",
              "<table border=\"1\" class=\"dataframe\">\n",
              "  <thead>\n",
              "    <tr style=\"text-align: right;\">\n",
              "      <th></th>\n",
              "      <th>dm_unique_new_customer_cnt</th>\n",
              "      <th>dm_new_cust_order_pct</th>\n",
              "      <th>dm_cash_order_pct</th>\n",
              "      <th>dm_voucher_pct</th>\n",
              "      <th>dm_avg_co_per_s2ID</th>\n",
              "      <th>dm_bad_receipt_cnt</th>\n",
              "      <th>d_co_per_s2id</th>\n",
              "      <th>d_unique_new_customer_cnt</th>\n",
              "      <th>d_new_cust_order_pct</th>\n",
              "      <th>d_voucher_pct</th>\n",
              "      <th>d_bad_receipt_cnt</th>\n",
              "      <th>triangle_count</th>\n",
              "    </tr>\n",
              "  </thead>\n",
              "  <tbody>\n",
              "    <tr>\n",
              "      <th>59428</th>\n",
              "      <td>0</td>\n",
              "      <td>0.000000</td>\n",
              "      <td>1.0</td>\n",
              "      <td>0.000000</td>\n",
              "      <td>1.00</td>\n",
              "      <td>1</td>\n",
              "      <td>2.142857</td>\n",
              "      <td>1</td>\n",
              "      <td>0.041667</td>\n",
              "      <td>0.083333</td>\n",
              "      <td>24</td>\n",
              "      <td>1.0</td>\n",
              "    </tr>\n",
              "    <tr>\n",
              "      <th>34957</th>\n",
              "      <td>0</td>\n",
              "      <td>0.000000</td>\n",
              "      <td>1.0</td>\n",
              "      <td>0.000000</td>\n",
              "      <td>1.00</td>\n",
              "      <td>1</td>\n",
              "      <td>1.047619</td>\n",
              "      <td>0</td>\n",
              "      <td>0.000000</td>\n",
              "      <td>0.111111</td>\n",
              "      <td>9</td>\n",
              "      <td>1.0</td>\n",
              "    </tr>\n",
              "    <tr>\n",
              "      <th>4264</th>\n",
              "      <td>1</td>\n",
              "      <td>0.333333</td>\n",
              "      <td>1.0</td>\n",
              "      <td>0.000000</td>\n",
              "      <td>1.80</td>\n",
              "      <td>3</td>\n",
              "      <td>6.181818</td>\n",
              "      <td>38</td>\n",
              "      <td>0.475610</td>\n",
              "      <td>0.524390</td>\n",
              "      <td>82</td>\n",
              "      <td>34.0</td>\n",
              "    </tr>\n",
              "    <tr>\n",
              "      <th>53791</th>\n",
              "      <td>1</td>\n",
              "      <td>0.200000</td>\n",
              "      <td>0.8</td>\n",
              "      <td>0.000000</td>\n",
              "      <td>2.20</td>\n",
              "      <td>5</td>\n",
              "      <td>3.047619</td>\n",
              "      <td>1</td>\n",
              "      <td>0.050000</td>\n",
              "      <td>0.150000</td>\n",
              "      <td>20</td>\n",
              "      <td>1.0</td>\n",
              "    </tr>\n",
              "    <tr>\n",
              "      <th>82114</th>\n",
              "      <td>1</td>\n",
              "      <td>1.000000</td>\n",
              "      <td>0.0</td>\n",
              "      <td>1.000000</td>\n",
              "      <td>1.00</td>\n",
              "      <td>1</td>\n",
              "      <td>1.243243</td>\n",
              "      <td>35</td>\n",
              "      <td>0.782609</td>\n",
              "      <td>1.000000</td>\n",
              "      <td>46</td>\n",
              "      <td>2.0</td>\n",
              "    </tr>\n",
              "    <tr>\n",
              "      <th>...</th>\n",
              "      <td>...</td>\n",
              "      <td>...</td>\n",
              "      <td>...</td>\n",
              "      <td>...</td>\n",
              "      <td>...</td>\n",
              "      <td>...</td>\n",
              "      <td>...</td>\n",
              "      <td>...</td>\n",
              "      <td>...</td>\n",
              "      <td>...</td>\n",
              "      <td>...</td>\n",
              "      <td>...</td>\n",
              "    </tr>\n",
              "    <tr>\n",
              "      <th>6265</th>\n",
              "      <td>1</td>\n",
              "      <td>1.000000</td>\n",
              "      <td>0.0</td>\n",
              "      <td>1.000000</td>\n",
              "      <td>1.00</td>\n",
              "      <td>1</td>\n",
              "      <td>1.295455</td>\n",
              "      <td>47</td>\n",
              "      <td>0.888889</td>\n",
              "      <td>0.981481</td>\n",
              "      <td>54</td>\n",
              "      <td>4.0</td>\n",
              "    </tr>\n",
              "    <tr>\n",
              "      <th>54886</th>\n",
              "      <td>0</td>\n",
              "      <td>0.000000</td>\n",
              "      <td>1.0</td>\n",
              "      <td>1.000000</td>\n",
              "      <td>1.00</td>\n",
              "      <td>1</td>\n",
              "      <td>2.062500</td>\n",
              "      <td>0</td>\n",
              "      <td>0.000000</td>\n",
              "      <td>0.809524</td>\n",
              "      <td>21</td>\n",
              "      <td>1.0</td>\n",
              "    </tr>\n",
              "    <tr>\n",
              "      <th>76820</th>\n",
              "      <td>0</td>\n",
              "      <td>0.000000</td>\n",
              "      <td>1.0</td>\n",
              "      <td>0.166667</td>\n",
              "      <td>1.25</td>\n",
              "      <td>6</td>\n",
              "      <td>2.821429</td>\n",
              "      <td>5</td>\n",
              "      <td>0.128205</td>\n",
              "      <td>0.564103</td>\n",
              "      <td>39</td>\n",
              "      <td>6.0</td>\n",
              "    </tr>\n",
              "    <tr>\n",
              "      <th>860</th>\n",
              "      <td>0</td>\n",
              "      <td>0.000000</td>\n",
              "      <td>1.0</td>\n",
              "      <td>0.000000</td>\n",
              "      <td>1.00</td>\n",
              "      <td>1</td>\n",
              "      <td>2.516129</td>\n",
              "      <td>27</td>\n",
              "      <td>0.369863</td>\n",
              "      <td>0.589041</td>\n",
              "      <td>73</td>\n",
              "      <td>9.0</td>\n",
              "    </tr>\n",
              "    <tr>\n",
              "      <th>15795</th>\n",
              "      <td>0</td>\n",
              "      <td>0.000000</td>\n",
              "      <td>0.0</td>\n",
              "      <td>1.000000</td>\n",
              "      <td>1.00</td>\n",
              "      <td>1</td>\n",
              "      <td>1.000000</td>\n",
              "      <td>0</td>\n",
              "      <td>0.000000</td>\n",
              "      <td>0.500000</td>\n",
              "      <td>2</td>\n",
              "      <td>1.0</td>\n",
              "    </tr>\n",
              "  </tbody>\n",
              "</table>\n",
              "<p>67000 rows × 12 columns</p>\n",
              "</div>"
            ],
            "text/plain": [
              "       dm_unique_new_customer_cnt  ...  triangle_count\n",
              "59428                           0  ...             1.0\n",
              "34957                           0  ...             1.0\n",
              "4264                            1  ...            34.0\n",
              "53791                           1  ...             1.0\n",
              "82114                           1  ...             2.0\n",
              "...                           ...  ...             ...\n",
              "6265                            1  ...             4.0\n",
              "54886                           0  ...             1.0\n",
              "76820                           0  ...             6.0\n",
              "860                             0  ...             9.0\n",
              "15795                           0  ...             1.0\n",
              "\n",
              "[67000 rows x 12 columns]"
            ]
          },
          "metadata": {
            "tags": []
          },
          "execution_count": 68
        }
      ]
    },
    {
      "cell_type": "markdown",
      "metadata": {
        "id": "BlBDOR16XSs2"
      },
      "source": [
        "Standardization and dimensionality reduction"
      ]
    },
    {
      "cell_type": "code",
      "metadata": {
        "id": "aRST1-95YPgC"
      },
      "source": [
        "X_train = pd.DataFrame(std_pca.fit_transform(train_set))\n",
        "X_test = pd.DataFrame(std_pca.transform(test_set))"
      ],
      "execution_count": null,
      "outputs": []
    },
    {
      "cell_type": "markdown",
      "metadata": {
        "id": "CHnaOw8jbce2"
      },
      "source": [
        "Percentiles based analysis data preparation"
      ]
    },
    {
      "cell_type": "code",
      "metadata": {
        "id": "Hy0hQeadbV7a"
      },
      "source": [
        "train_quant = train_set.quantile([0.3, 0.4, 0.5, 0.75, 0.85, 0.9, 0.99])\n",
        "train_mean = train_set.mean()\n",
        "train_mean  = train_mean.to_frame()\n",
        "train_mean = train_mean.transpose()\n",
        "train_mean = train_mean.rename(index = {0.00: 'mean'})\n",
        "train_std = train_set.std()\n",
        "train_std = train_std.to_frame()\n",
        "train_std = train_std.transpose()\n",
        "train_std = train_std.rename(index = {0.00: 'std'})\n",
        "t1 = train_quant.append(train_std)\n",
        "t1 = t1.append(train_mean)"
      ],
      "execution_count": null,
      "outputs": []
    },
    {
      "cell_type": "code",
      "metadata": {
        "id": "fHJ-aXPRFecO"
      },
      "source": [
        "data_to_csv(t1)"
      ],
      "execution_count": null,
      "outputs": []
    },
    {
      "cell_type": "markdown",
      "metadata": {
        "id": "OlHpPvFphi4J"
      },
      "source": [
        "Outlier detection: 85-percentile and >7 features signal fraud"
      ]
    },
    {
      "cell_type": "code",
      "metadata": {
        "id": "wYFJ3VNjhiqt"
      },
      "source": [
        "_perc = train_set.quantile([0.5, 0.85])\n",
        "_perc = _perc.rename(index = {0.5: 'perc50', 0.85: 'perc85'})\n",
        "# test_set_withperc = test_set.append(_perc)\n",
        "# test_set_withperc"
      ],
      "execution_count": null,
      "outputs": []
    },
    {
      "cell_type": "code",
      "metadata": {
        "id": "jOcdNaCHBE6K",
        "colab": {
          "base_uri": "https://localhost:8080/",
          "height": 131
        },
        "outputId": "9c87809c-fe4c-4257-8a41-f89b3e0164b9"
      },
      "source": [
        "_perc"
      ],
      "execution_count": null,
      "outputs": [
        {
          "output_type": "execute_result",
          "data": {
            "text/html": [
              "<div>\n",
              "<style scoped>\n",
              "    .dataframe tbody tr th:only-of-type {\n",
              "        vertical-align: middle;\n",
              "    }\n",
              "\n",
              "    .dataframe tbody tr th {\n",
              "        vertical-align: top;\n",
              "    }\n",
              "\n",
              "    .dataframe thead th {\n",
              "        text-align: right;\n",
              "    }\n",
              "</style>\n",
              "<table border=\"1\" class=\"dataframe\">\n",
              "  <thead>\n",
              "    <tr style=\"text-align: right;\">\n",
              "      <th></th>\n",
              "      <th>dm_unique_new_customer_cnt</th>\n",
              "      <th>dm_new_cust_order_pct</th>\n",
              "      <th>dm_cash_order_pct</th>\n",
              "      <th>dm_voucher_pct</th>\n",
              "      <th>dm_avg_co_per_s2ID</th>\n",
              "      <th>dm_bad_receipt_cnt</th>\n",
              "      <th>d_co_per_s2id</th>\n",
              "      <th>d_unique_new_customer_cnt</th>\n",
              "      <th>d_new_cust_order_pct</th>\n",
              "      <th>d_voucher_pct</th>\n",
              "      <th>d_bad_receipt_cnt</th>\n",
              "      <th>triangle_count</th>\n",
              "    </tr>\n",
              "  </thead>\n",
              "  <tbody>\n",
              "    <tr>\n",
              "      <th>perc50</th>\n",
              "      <td>0.0</td>\n",
              "      <td>0.0</td>\n",
              "      <td>1.0</td>\n",
              "      <td>0.0</td>\n",
              "      <td>1.000000</td>\n",
              "      <td>1.0</td>\n",
              "      <td>1.844444</td>\n",
              "      <td>2.0</td>\n",
              "      <td>0.083333</td>\n",
              "      <td>0.333333</td>\n",
              "      <td>23.0</td>\n",
              "      <td>4.0</td>\n",
              "    </tr>\n",
              "    <tr>\n",
              "      <th>perc85</th>\n",
              "      <td>1.0</td>\n",
              "      <td>1.0</td>\n",
              "      <td>1.0</td>\n",
              "      <td>1.0</td>\n",
              "      <td>1.333333</td>\n",
              "      <td>3.0</td>\n",
              "      <td>2.957143</td>\n",
              "      <td>22.0</td>\n",
              "      <td>0.675325</td>\n",
              "      <td>0.989796</td>\n",
              "      <td>62.0</td>\n",
              "      <td>17.0</td>\n",
              "    </tr>\n",
              "  </tbody>\n",
              "</table>\n",
              "</div>"
            ],
            "text/plain": [
              "        dm_unique_new_customer_cnt  ...  triangle_count\n",
              "perc50                         0.0  ...             4.0\n",
              "perc85                         1.0  ...            17.0\n",
              "\n",
              "[2 rows x 12 columns]"
            ]
          },
          "metadata": {
            "tags": []
          },
          "execution_count": 70
        }
      ]
    },
    {
      "cell_type": "code",
      "metadata": {
        "id": "K3Qpi3K0tj78",
        "colab": {
          "base_uri": "https://localhost:8080/",
          "height": 17
        },
        "outputId": "69e80b96-75ef-4de3-baca-bdef1bdf02ce"
      },
      "source": [
        "data_to_csv(_perc)"
      ],
      "execution_count": null,
      "outputs": [
        {
          "output_type": "display_data",
          "data": {
            "application/javascript": [
              "\n",
              "    async function download(id, filename, size) {\n",
              "      if (!google.colab.kernel.accessAllowed) {\n",
              "        return;\n",
              "      }\n",
              "      const div = document.createElement('div');\n",
              "      const label = document.createElement('label');\n",
              "      label.textContent = `Downloading \"${filename}\": `;\n",
              "      div.appendChild(label);\n",
              "      const progress = document.createElement('progress');\n",
              "      progress.max = size;\n",
              "      div.appendChild(progress);\n",
              "      document.body.appendChild(div);\n",
              "\n",
              "      const buffers = [];\n",
              "      let downloaded = 0;\n",
              "\n",
              "      const channel = await google.colab.kernel.comms.open(id);\n",
              "      // Send a message to notify the kernel that we're ready.\n",
              "      channel.send({})\n",
              "\n",
              "      for await (const message of channel.messages) {\n",
              "        // Send a message to notify the kernel that we're ready.\n",
              "        channel.send({})\n",
              "        if (message.buffers) {\n",
              "          for (const buffer of message.buffers) {\n",
              "            buffers.push(buffer);\n",
              "            downloaded += buffer.byteLength;\n",
              "            progress.value = downloaded;\n",
              "          }\n",
              "        }\n",
              "      }\n",
              "      const blob = new Blob(buffers, {type: 'application/binary'});\n",
              "      const a = document.createElement('a');\n",
              "      a.href = window.URL.createObjectURL(blob);\n",
              "      a.download = filename;\n",
              "      div.appendChild(a);\n",
              "      a.click();\n",
              "      div.remove();\n",
              "    }\n",
              "  "
            ],
            "text/plain": [
              "<IPython.core.display.Javascript object>"
            ]
          },
          "metadata": {
            "tags": []
          }
        },
        {
          "output_type": "display_data",
          "data": {
            "application/javascript": [
              "download(\"download_93949286-a3be-423b-b391-f48d25984dfb\", \"output.csv\", 448)"
            ],
            "text/plain": [
              "<IPython.core.display.Javascript object>"
            ]
          },
          "metadata": {
            "tags": []
          }
        }
      ]
    },
    {
      "cell_type": "code",
      "metadata": {
        "id": "m0aLYTevEMc9"
      },
      "source": [
        "def strike_cnt(row): \n",
        "  s =sum([row['dm_unique_new_customer_cnt'] >= test_set_withperc['dm_unique_new_customer_cnt'].loc['perc85'], \\\n",
        "      row['dm_new_cust_order_pct'] >= test_set_withperc['dm_new_cust_order_pct'].loc['perc85'], \\\n",
        "      row['dm_cash_order_pct'] >= test_set_withperc['dm_cash_order_pct'].loc['perc85'], \\\n",
        "      row['dm_voucher_pct'] >= 0.7, \\\n",
        "      row['dm_avg_co_per_s2ID'] >= test_set_withperc['dm_avg_co_per_s2ID'].loc['perc85'], \\\n",
        "      row['dm_bad_receipt_cnt'] >= test_set_withperc['dm_bad_receipt_cnt'].loc['perc85'], \\\n",
        "      row['d_co_per_s2id'] >= test_set_withperc['d_co_per_s2id'].loc['perc85'], \\\n",
        "      row['d_unique_new_customer_cnt'] >= test_set_withperc['d_unique_new_customer_cnt'].loc['perc85'], \\\n",
        "      row['d_new_cust_order_pct'] >= test_set_withperc['d_new_cust_order_pct'].loc['perc50'], \\\n",
        "      row['d_voucher_pct'] >= 0.7, \\\n",
        "      row['d_bad_receipt_cnt'] >= test_set_withperc['d_bad_receipt_cnt'].loc['perc85'], \\\n",
        "      row['triangle_count'] >= test_set_withperc['triangle_count'].loc['perc85']])\n",
        "  return s\n"
      ],
      "execution_count": null,
      "outputs": []
    },
    {
      "cell_type": "code",
      "metadata": {
        "id": "VaR1p9joNtaH",
        "colab": {
          "base_uri": "https://localhost:8080/",
          "height": 119
        },
        "outputId": "6aa1e6df-c71d-4cac-f677-10eadc559316"
      },
      "source": [
        "test_set_pure = X_test_pure\n",
        "test_set_pure['feat_strike'] = test_set_pure.apply(strike_cnt, axis =1)"
      ],
      "execution_count": null,
      "outputs": [
        {
          "output_type": "stream",
          "text": [
            "/usr/local/lib/python3.6/dist-packages/ipykernel_launcher.py:2: SettingWithCopyWarning: \n",
            "A value is trying to be set on a copy of a slice from a DataFrame.\n",
            "Try using .loc[row_indexer,col_indexer] = value instead\n",
            "\n",
            "See the caveats in the documentation: https://pandas.pydata.org/pandas-docs/stable/user_guide/indexing.html#returning-a-view-versus-a-copy\n",
            "  \n"
          ],
          "name": "stderr"
        }
      ]
    },
    {
      "cell_type": "code",
      "metadata": {
        "id": "x3sOTuxmKszx",
        "colab": {
          "base_uri": "https://localhost:8080/",
          "height": 224
        },
        "outputId": "37a7f9c7-0071-4e51-abbf-e495b7e59191"
      },
      "source": [
        "test_set_pure.head()"
      ],
      "execution_count": null,
      "outputs": [
        {
          "output_type": "execute_result",
          "data": {
            "text/html": [
              "<div>\n",
              "<style scoped>\n",
              "    .dataframe tbody tr th:only-of-type {\n",
              "        vertical-align: middle;\n",
              "    }\n",
              "\n",
              "    .dataframe tbody tr th {\n",
              "        vertical-align: top;\n",
              "    }\n",
              "\n",
              "    .dataframe thead th {\n",
              "        text-align: right;\n",
              "    }\n",
              "</style>\n",
              "<table border=\"1\" class=\"dataframe\">\n",
              "  <thead>\n",
              "    <tr style=\"text-align: right;\">\n",
              "      <th></th>\n",
              "      <th>driver_id</th>\n",
              "      <th>merchant_id</th>\n",
              "      <th>dm_unique_new_customer_cnt</th>\n",
              "      <th>dm_new_cust_order_pct</th>\n",
              "      <th>dm_cash_order_pct</th>\n",
              "      <th>dm_voucher_pct</th>\n",
              "      <th>dm_avg_co_per_s2ID</th>\n",
              "      <th>dm_bad_receipt_cnt</th>\n",
              "      <th>d_co_per_s2id</th>\n",
              "      <th>d_unique_new_customer_cnt</th>\n",
              "      <th>d_new_cust_order_pct</th>\n",
              "      <th>d_voucher_pct</th>\n",
              "      <th>d_bad_receipt_cnt</th>\n",
              "      <th>triangle_count</th>\n",
              "      <th>feat_strike</th>\n",
              "    </tr>\n",
              "  </thead>\n",
              "  <tbody>\n",
              "    <tr>\n",
              "      <th>75721</th>\n",
              "      <td>700295870</td>\n",
              "      <td>542547727</td>\n",
              "      <td>0</td>\n",
              "      <td>0.0</td>\n",
              "      <td>0.2</td>\n",
              "      <td>0.0</td>\n",
              "      <td>3.098361</td>\n",
              "      <td>5</td>\n",
              "      <td>3.194444</td>\n",
              "      <td>0</td>\n",
              "      <td>0.000000</td>\n",
              "      <td>0.000000</td>\n",
              "      <td>5</td>\n",
              "      <td>15.0</td>\n",
              "      <td>4</td>\n",
              "    </tr>\n",
              "    <tr>\n",
              "      <th>80184</th>\n",
              "      <td>540967803</td>\n",
              "      <td>542858196</td>\n",
              "      <td>0</td>\n",
              "      <td>0.0</td>\n",
              "      <td>1.0</td>\n",
              "      <td>0.0</td>\n",
              "      <td>1.000000</td>\n",
              "      <td>1</td>\n",
              "      <td>2.475248</td>\n",
              "      <td>1</td>\n",
              "      <td>0.166667</td>\n",
              "      <td>0.666667</td>\n",
              "      <td>6</td>\n",
              "      <td>1.0</td>\n",
              "      <td>2</td>\n",
              "    </tr>\n",
              "    <tr>\n",
              "      <th>19864</th>\n",
              "      <td>700786792</td>\n",
              "      <td>543314718</td>\n",
              "      <td>1</td>\n",
              "      <td>1.0</td>\n",
              "      <td>0.0</td>\n",
              "      <td>1.0</td>\n",
              "      <td>2.000000</td>\n",
              "      <td>1</td>\n",
              "      <td>1.512000</td>\n",
              "      <td>102</td>\n",
              "      <td>0.944444</td>\n",
              "      <td>0.981481</td>\n",
              "      <td>108</td>\n",
              "      <td>9.0</td>\n",
              "      <td>8</td>\n",
              "    </tr>\n",
              "    <tr>\n",
              "      <th>76699</th>\n",
              "      <td>700776179</td>\n",
              "      <td>542794064</td>\n",
              "      <td>0</td>\n",
              "      <td>0.0</td>\n",
              "      <td>1.0</td>\n",
              "      <td>0.0</td>\n",
              "      <td>1.000000</td>\n",
              "      <td>1</td>\n",
              "      <td>5.768293</td>\n",
              "      <td>0</td>\n",
              "      <td>0.000000</td>\n",
              "      <td>0.000000</td>\n",
              "      <td>5</td>\n",
              "      <td>1.0</td>\n",
              "      <td>3</td>\n",
              "    </tr>\n",
              "    <tr>\n",
              "      <th>92991</th>\n",
              "      <td>700504875</td>\n",
              "      <td>542953839</td>\n",
              "      <td>0</td>\n",
              "      <td>0.0</td>\n",
              "      <td>1.0</td>\n",
              "      <td>0.0</td>\n",
              "      <td>2.677419</td>\n",
              "      <td>4</td>\n",
              "      <td>4.217391</td>\n",
              "      <td>0</td>\n",
              "      <td>0.000000</td>\n",
              "      <td>0.125000</td>\n",
              "      <td>8</td>\n",
              "      <td>3.0</td>\n",
              "      <td>5</td>\n",
              "    </tr>\n",
              "  </tbody>\n",
              "</table>\n",
              "</div>"
            ],
            "text/plain": [
              "       driver_id  merchant_id  ...  triangle_count  feat_strike\n",
              "75721  700295870    542547727  ...            15.0            4\n",
              "80184  540967803    542858196  ...             1.0            2\n",
              "19864  700786792    543314718  ...             9.0            8\n",
              "76699  700776179    542794064  ...             1.0            3\n",
              "92991  700504875    542953839  ...             3.0            5\n",
              "\n",
              "[5 rows x 15 columns]"
            ]
          },
          "metadata": {
            "tags": []
          },
          "execution_count": 22
        }
      ]
    },
    {
      "cell_type": "code",
      "metadata": {
        "id": "1xG8P-qzOFuX",
        "colab": {
          "base_uri": "https://localhost:8080/",
          "height": 34
        },
        "outputId": "4e507a58-22ca-409b-bd75-bf4c7950ff50"
      },
      "source": [
        "outlier_from_perc = X_test_pure[(test_set_pure['feat_strike'] > 7)]\n",
        "outlier_from_perc.shape"
      ],
      "execution_count": null,
      "outputs": [
        {
          "output_type": "execute_result",
          "data": {
            "text/plain": [
              "(1518, 15)"
            ]
          },
          "metadata": {
            "tags": []
          },
          "execution_count": 44
        }
      ]
    },
    {
      "cell_type": "code",
      "metadata": {
        "id": "c0MWtU-HOt96",
        "colab": {
          "base_uri": "https://localhost:8080/",
          "height": 17
        },
        "outputId": "8b4741c9-e9f1-42c2-a212-2905c854cdac"
      },
      "source": [
        "data_to_csv(outlier_from_perc)"
      ],
      "execution_count": null,
      "outputs": [
        {
          "output_type": "display_data",
          "data": {
            "application/javascript": [
              "\n",
              "    async function download(id, filename, size) {\n",
              "      if (!google.colab.kernel.accessAllowed) {\n",
              "        return;\n",
              "      }\n",
              "      const div = document.createElement('div');\n",
              "      const label = document.createElement('label');\n",
              "      label.textContent = `Downloading \"${filename}\": `;\n",
              "      div.appendChild(label);\n",
              "      const progress = document.createElement('progress');\n",
              "      progress.max = size;\n",
              "      div.appendChild(progress);\n",
              "      document.body.appendChild(div);\n",
              "\n",
              "      const buffers = [];\n",
              "      let downloaded = 0;\n",
              "\n",
              "      const channel = await google.colab.kernel.comms.open(id);\n",
              "      // Send a message to notify the kernel that we're ready.\n",
              "      channel.send({})\n",
              "\n",
              "      for await (const message of channel.messages) {\n",
              "        // Send a message to notify the kernel that we're ready.\n",
              "        channel.send({})\n",
              "        if (message.buffers) {\n",
              "          for (const buffer of message.buffers) {\n",
              "            buffers.push(buffer);\n",
              "            downloaded += buffer.byteLength;\n",
              "            progress.value = downloaded;\n",
              "          }\n",
              "        }\n",
              "      }\n",
              "      const blob = new Blob(buffers, {type: 'application/binary'});\n",
              "      const a = document.createElement('a');\n",
              "      a.href = window.URL.createObjectURL(blob);\n",
              "      a.download = filename;\n",
              "      div.appendChild(a);\n",
              "      a.click();\n",
              "      div.remove();\n",
              "    }\n",
              "  "
            ],
            "text/plain": [
              "<IPython.core.display.Javascript object>"
            ]
          },
          "metadata": {
            "tags": []
          }
        },
        {
          "output_type": "display_data",
          "data": {
            "application/javascript": [
              "download(\"download_1c7b3001-2dbe-4f71-b70a-ff2d3157e79a\", \"output.csv\", 175167)"
            ],
            "text/plain": [
              "<IPython.core.display.Javascript object>"
            ]
          },
          "metadata": {
            "tags": []
          }
        }
      ]
    },
    {
      "cell_type": "markdown",
      "metadata": {
        "id": "jD3KefjvfuiS"
      },
      "source": [
        "Fitting data to outlier detection model"
      ]
    },
    {
      "cell_type": "markdown",
      "metadata": {
        "id": "CeP7Q_-ETUn3"
      },
      "source": [
        "Isolation forest"
      ]
    },
    {
      "cell_type": "code",
      "metadata": {
        "id": "QUn9CsfDGdd3"
      },
      "source": [
        "\n",
        "clf = IsolationForest(max_samples=50000, random_state=0)\n",
        "clf.fit(X_train) # train model\n",
        "v_predict_arr = clf.predict(X_test) # get prediction on test\n",
        "v_predict = pd.DataFrame(v_predict_arr) # convert prediction to dataframe\n",
        "v_predict.columns = [\"iso_for_outliers\"] \n",
        "# X_test_pure[\"iso_for_outliers\"] = v_predict\n",
        "v_score_arr = clf.decision_function(X_test)\n",
        "v_score = pd.DataFrame(v_score_arr)\n",
        "v_predict[\"ano_score\"] = v_score \n",
        "# X_test_pure[\"ano_score\"] = v_score "
      ],
      "execution_count": null,
      "outputs": []
    },
    {
      "cell_type": "code",
      "metadata": {
        "id": "DvFY9jIwgNkQ"
      },
      "source": [
        "X_test_pure.head()"
      ],
      "execution_count": null,
      "outputs": []
    },
    {
      "cell_type": "code",
      "metadata": {
        "id": "JcwgR_Lhe5S6",
        "colab": {
          "base_uri": "https://localhost:8080/",
          "height": 204
        },
        "outputId": "fd369f24-47bc-4fdb-ff7d-eb8a637b02e1"
      },
      "source": [
        "v_predict.head()"
      ],
      "execution_count": null,
      "outputs": [
        {
          "output_type": "execute_result",
          "data": {
            "text/html": [
              "<div>\n",
              "<style scoped>\n",
              "    .dataframe tbody tr th:only-of-type {\n",
              "        vertical-align: middle;\n",
              "    }\n",
              "\n",
              "    .dataframe tbody tr th {\n",
              "        vertical-align: top;\n",
              "    }\n",
              "\n",
              "    .dataframe thead th {\n",
              "        text-align: right;\n",
              "    }\n",
              "</style>\n",
              "<table border=\"1\" class=\"dataframe\">\n",
              "  <thead>\n",
              "    <tr style=\"text-align: right;\">\n",
              "      <th></th>\n",
              "      <th>iso_for_outliers</th>\n",
              "      <th>ano_score</th>\n",
              "    </tr>\n",
              "  </thead>\n",
              "  <tbody>\n",
              "    <tr>\n",
              "      <th>0</th>\n",
              "      <td>1</td>\n",
              "      <td>0.158940</td>\n",
              "    </tr>\n",
              "    <tr>\n",
              "      <th>1</th>\n",
              "      <td>1</td>\n",
              "      <td>0.147696</td>\n",
              "    </tr>\n",
              "    <tr>\n",
              "      <th>2</th>\n",
              "      <td>1</td>\n",
              "      <td>0.078912</td>\n",
              "    </tr>\n",
              "    <tr>\n",
              "      <th>3</th>\n",
              "      <td>1</td>\n",
              "      <td>0.154443</td>\n",
              "    </tr>\n",
              "    <tr>\n",
              "      <th>4</th>\n",
              "      <td>1</td>\n",
              "      <td>0.098877</td>\n",
              "    </tr>\n",
              "  </tbody>\n",
              "</table>\n",
              "</div>"
            ],
            "text/plain": [
              "   iso_for_outliers  ano_score\n",
              "0                 1   0.158940\n",
              "1                 1   0.147696\n",
              "2                 1   0.078912\n",
              "3                 1   0.154443\n",
              "4                 1   0.098877"
            ]
          },
          "metadata": {
            "tags": []
          },
          "execution_count": 99
        }
      ]
    },
    {
      "cell_type": "code",
      "metadata": {
        "id": "FmmRmCo9sMAA",
        "colab": {
          "base_uri": "https://localhost:8080/",
          "height": 297
        },
        "outputId": "751c5d1f-4e83-4c9a-8202-327d3119ba28"
      },
      "source": [
        "v_predict[v_predict[\"ano_score\"]<-0.15].describe()"
      ],
      "execution_count": null,
      "outputs": [
        {
          "output_type": "execute_result",
          "data": {
            "text/html": [
              "<div>\n",
              "<style scoped>\n",
              "    .dataframe tbody tr th:only-of-type {\n",
              "        vertical-align: middle;\n",
              "    }\n",
              "\n",
              "    .dataframe tbody tr th {\n",
              "        vertical-align: top;\n",
              "    }\n",
              "\n",
              "    .dataframe thead th {\n",
              "        text-align: right;\n",
              "    }\n",
              "</style>\n",
              "<table border=\"1\" class=\"dataframe\">\n",
              "  <thead>\n",
              "    <tr style=\"text-align: right;\">\n",
              "      <th></th>\n",
              "      <th>iso_for_outliers</th>\n",
              "      <th>ano_score</th>\n",
              "    </tr>\n",
              "  </thead>\n",
              "  <tbody>\n",
              "    <tr>\n",
              "      <th>count</th>\n",
              "      <td>86.0</td>\n",
              "      <td>86.000000</td>\n",
              "    </tr>\n",
              "    <tr>\n",
              "      <th>mean</th>\n",
              "      <td>-1.0</td>\n",
              "      <td>-0.185223</td>\n",
              "    </tr>\n",
              "    <tr>\n",
              "      <th>std</th>\n",
              "      <td>0.0</td>\n",
              "      <td>0.028409</td>\n",
              "    </tr>\n",
              "    <tr>\n",
              "      <th>min</th>\n",
              "      <td>-1.0</td>\n",
              "      <td>-0.307883</td>\n",
              "    </tr>\n",
              "    <tr>\n",
              "      <th>25%</th>\n",
              "      <td>-1.0</td>\n",
              "      <td>-0.201921</td>\n",
              "    </tr>\n",
              "    <tr>\n",
              "      <th>50%</th>\n",
              "      <td>-1.0</td>\n",
              "      <td>-0.180503</td>\n",
              "    </tr>\n",
              "    <tr>\n",
              "      <th>75%</th>\n",
              "      <td>-1.0</td>\n",
              "      <td>-0.162947</td>\n",
              "    </tr>\n",
              "    <tr>\n",
              "      <th>max</th>\n",
              "      <td>-1.0</td>\n",
              "      <td>-0.150046</td>\n",
              "    </tr>\n",
              "  </tbody>\n",
              "</table>\n",
              "</div>"
            ],
            "text/plain": [
              "       iso_for_outliers  ano_score\n",
              "count              86.0  86.000000\n",
              "mean               -1.0  -0.185223\n",
              "std                 0.0   0.028409\n",
              "min                -1.0  -0.307883\n",
              "25%                -1.0  -0.201921\n",
              "50%                -1.0  -0.180503\n",
              "75%                -1.0  -0.162947\n",
              "max                -1.0  -0.150046"
            ]
          },
          "metadata": {
            "tags": []
          },
          "execution_count": 125
        }
      ]
    },
    {
      "cell_type": "code",
      "metadata": {
        "id": "-9V_KPqltVIs"
      },
      "source": [
        "to_validate = X_test_pure[(v_score_arr<-0.15)]\n",
        "data_to_csv(to_validate)"
      ],
      "execution_count": null,
      "outputs": []
    },
    {
      "cell_type": "markdown",
      "metadata": {
        "id": "CCN-vBixg-Gu"
      },
      "source": [
        "Outlier mean with all features incorporated. This will be compared with backward elimination result"
      ]
    },
    {
      "cell_type": "code",
      "metadata": {
        "id": "rVX1u9bnKVbR",
        "colab": {
          "base_uri": "https://localhost:8080/",
          "height": 51
        },
        "outputId": "ae4c0d12-2dd9-4ac8-c4f1-947bf0ae02c3"
      },
      "source": [
        "outlier_mean = v_score[v_score < -0.1].mean()\n",
        "print(outlier_mean)"
      ],
      "execution_count": null,
      "outputs": [
        {
          "output_type": "stream",
          "text": [
            "0   -0.147598\n",
            "dtype: float64\n"
          ],
          "name": "stdout"
        }
      ]
    },
    {
      "cell_type": "code",
      "metadata": {
        "id": "7990NWgsRFZ-",
        "colab": {
          "base_uri": "https://localhost:8080/",
          "height": 34
        },
        "outputId": "f21e8515-26e8-45c6-d4ac-bc4e78615c62"
      },
      "source": [
        "cols = list(df_mod.columns)\n",
        "cols[len(cols)-1]"
      ],
      "execution_count": null,
      "outputs": [
        {
          "output_type": "execute_result",
          "data": {
            "text/plain": [
              "'triangle_count'"
            ]
          },
          "metadata": {
            "tags": []
          },
          "execution_count": 11
        }
      ]
    },
    {
      "cell_type": "markdown",
      "metadata": {
        "id": "Y9LLaxULBSqf"
      },
      "source": [
        "Loop to try different n_component values"
      ]
    },
    {
      "cell_type": "code",
      "metadata": {
        "id": "VAWRQ6fYBR3V"
      },
      "source": [
        "def loop_pca(start, end, count):\n",
        "  column_names = [\"PCA n_components\", \"Outlier avg\", \"Number of outliers\"]\n",
        "  result = pd.DataFrame(columns = column_names)\n",
        "  clf = IsolationForest(max_samples=50000, random_state=0)\n",
        "  for n_comp in np.linspace(start,end,count):\n",
        "    print(\"Trying with n_component: \", n_comp)\n",
        "    scaler_loop = StandardScaler()\n",
        "    pca_loop = PCA(n_components = n_comp)\n",
        "    std_pca_loop = make_pipeline(scaler_loop, pca_loop)\n",
        "    X_train_n = pd.DataFrame(std_pca_loop.fit_transform(train_set))\n",
        "    X_test_n = pd.DataFrame(std_pca_loop.transform(test_set))\n",
        "    print(\"Size of dataset\", X_train_n.shape)\n",
        "    clf.fit(X_train_n) # train model\n",
        "    score_out = clf.decision_function(X_test_n)\n",
        "    mean_out = score_out[score_out < -0.1].mean()\n",
        "    count_out = len(score_out[score_out < -0.1])\n",
        "    result = result.append({'PCA n_components' : n_comp , \"Outlier avg\" : mean_out, \"Number of outliers\" : count_out}, ignore_index = True)\n",
        "  return result"
      ],
      "execution_count": null,
      "outputs": []
    },
    {
      "cell_type": "code",
      "metadata": {
        "id": "bhAFgdTVE5wg",
        "colab": {
          "base_uri": "https://localhost:8080/",
          "height": 425
        },
        "outputId": "885bd6cf-d223-45bd-be63-9d18aa2cd50d"
      },
      "source": [
        "pca_loop_result = loop_pca(0.4, 0.999, 12)"
      ],
      "execution_count": null,
      "outputs": [
        {
          "output_type": "stream",
          "text": [
            "Trying with n_component:  0.4\n",
            "Size of dataset (67000, 2)\n",
            "Trying with n_component:  0.45445454545454544\n",
            "Size of dataset (67000, 2)\n",
            "Trying with n_component:  0.508909090909091\n",
            "Size of dataset (67000, 2)\n",
            "Trying with n_component:  0.5633636363636364\n",
            "Size of dataset (67000, 2)\n",
            "Trying with n_component:  0.6178181818181818\n",
            "Size of dataset (67000, 2)\n",
            "Trying with n_component:  0.6722727272727272\n",
            "Size of dataset (67000, 3)\n",
            "Trying with n_component:  0.7267272727272727\n",
            "Size of dataset (67000, 3)\n",
            "Trying with n_component:  0.7811818181818182\n",
            "Size of dataset (67000, 4)\n",
            "Trying with n_component:  0.8356363636363636\n",
            "Size of dataset (67000, 5)\n",
            "Trying with n_component:  0.890090909090909\n",
            "Size of dataset (67000, 6)\n",
            "Trying with n_component:  0.9445454545454545\n",
            "Size of dataset (67000, 8)\n",
            "Trying with n_component:  0.999\n",
            "Size of dataset (67000, 12)\n"
          ],
          "name": "stdout"
        }
      ]
    },
    {
      "cell_type": "code",
      "metadata": {
        "id": "tuEuVTFJI-Ul"
      },
      "source": [
        "data_to_csv(pca_loop_result)"
      ],
      "execution_count": null,
      "outputs": []
    },
    {
      "cell_type": "code",
      "metadata": {
        "id": "-A0Mlq2tDu67"
      },
      "source": [
        "outlier_mean_list"
      ],
      "execution_count": null,
      "outputs": []
    },
    {
      "cell_type": "markdown",
      "metadata": {
        "id": "DJqLcU69LETY"
      },
      "source": [
        "Backward elimination"
      ]
    },
    {
      "cell_type": "code",
      "metadata": {
        "id": "WazG9KnoSwMR"
      },
      "source": [
        "df_samp = df.iloc[:, 2:len(df.columns)]\n",
        "x_test = df_samp.sample(50000)"
      ],
      "execution_count": null,
      "outputs": []
    },
    {
      "cell_type": "code",
      "metadata": {
        "id": "8qBJKLi5SyEh",
        "colab": {
          "base_uri": "https://localhost:8080/",
          "height": 224
        },
        "outputId": "b3ac6c32-5312-439b-c456-4366d739abca"
      },
      "source": [
        "df_samp.head()"
      ],
      "execution_count": null,
      "outputs": [
        {
          "output_type": "execute_result",
          "data": {
            "text/html": [
              "<div>\n",
              "<style scoped>\n",
              "    .dataframe tbody tr th:only-of-type {\n",
              "        vertical-align: middle;\n",
              "    }\n",
              "\n",
              "    .dataframe tbody tr th {\n",
              "        vertical-align: top;\n",
              "    }\n",
              "\n",
              "    .dataframe thead th {\n",
              "        text-align: right;\n",
              "    }\n",
              "</style>\n",
              "<table border=\"1\" class=\"dataframe\">\n",
              "  <thead>\n",
              "    <tr style=\"text-align: right;\">\n",
              "      <th></th>\n",
              "      <th>dm_unique_new_customer_cnt</th>\n",
              "      <th>dm_new_cust_order_pct</th>\n",
              "      <th>dm_cmpltorders_from_suspicious_customer_pct</th>\n",
              "      <th>dm_cash_order_pct</th>\n",
              "      <th>dm_voucher_pct</th>\n",
              "      <th>dm_avg_co_per_s2ID</th>\n",
              "      <th>dm_bad_receipt_cnt</th>\n",
              "      <th>d_co_per_s2id</th>\n",
              "      <th>d_unique_new_customer_cnt</th>\n",
              "      <th>d_new_cust_order_pct</th>\n",
              "      <th>d_voucher_pct</th>\n",
              "      <th>d_cmpltorders_from_suspicious_customer_pct</th>\n",
              "      <th>d_bad_receipt_cnt</th>\n",
              "      <th>triangle_count</th>\n",
              "    </tr>\n",
              "  </thead>\n",
              "  <tbody>\n",
              "    <tr>\n",
              "      <th>23526</th>\n",
              "      <td>2</td>\n",
              "      <td>1.0</td>\n",
              "      <td>0.0</td>\n",
              "      <td>0.0</td>\n",
              "      <td>1.0</td>\n",
              "      <td>1.000000</td>\n",
              "      <td>2</td>\n",
              "      <td>2.114537</td>\n",
              "      <td>262</td>\n",
              "      <td>0.907216</td>\n",
              "      <td>0.996564</td>\n",
              "      <td>0.0</td>\n",
              "      <td>291</td>\n",
              "      <td>2.0</td>\n",
              "    </tr>\n",
              "    <tr>\n",
              "      <th>41756</th>\n",
              "      <td>0</td>\n",
              "      <td>0.0</td>\n",
              "      <td>0.0</td>\n",
              "      <td>1.0</td>\n",
              "      <td>1.0</td>\n",
              "      <td>1.000000</td>\n",
              "      <td>1</td>\n",
              "      <td>6.278689</td>\n",
              "      <td>67</td>\n",
              "      <td>0.258555</td>\n",
              "      <td>0.653992</td>\n",
              "      <td>0.0</td>\n",
              "      <td>263</td>\n",
              "      <td>3.0</td>\n",
              "    </tr>\n",
              "    <tr>\n",
              "      <th>45125</th>\n",
              "      <td>0</td>\n",
              "      <td>0.0</td>\n",
              "      <td>0.0</td>\n",
              "      <td>1.0</td>\n",
              "      <td>0.0</td>\n",
              "      <td>1.000000</td>\n",
              "      <td>1</td>\n",
              "      <td>4.455882</td>\n",
              "      <td>0</td>\n",
              "      <td>0.000000</td>\n",
              "      <td>0.090909</td>\n",
              "      <td>0.0</td>\n",
              "      <td>11</td>\n",
              "      <td>1.0</td>\n",
              "    </tr>\n",
              "    <tr>\n",
              "      <th>28954</th>\n",
              "      <td>0</td>\n",
              "      <td>0.0</td>\n",
              "      <td>0.0</td>\n",
              "      <td>1.0</td>\n",
              "      <td>0.0</td>\n",
              "      <td>1.333333</td>\n",
              "      <td>1</td>\n",
              "      <td>5.538462</td>\n",
              "      <td>0</td>\n",
              "      <td>0.000000</td>\n",
              "      <td>0.166667</td>\n",
              "      <td>0.0</td>\n",
              "      <td>66</td>\n",
              "      <td>3.0</td>\n",
              "    </tr>\n",
              "    <tr>\n",
              "      <th>16293</th>\n",
              "      <td>1</td>\n",
              "      <td>1.0</td>\n",
              "      <td>0.0</td>\n",
              "      <td>0.0</td>\n",
              "      <td>1.0</td>\n",
              "      <td>1.000000</td>\n",
              "      <td>1</td>\n",
              "      <td>1.298246</td>\n",
              "      <td>25</td>\n",
              "      <td>0.806452</td>\n",
              "      <td>1.000000</td>\n",
              "      <td>0.0</td>\n",
              "      <td>31</td>\n",
              "      <td>7.0</td>\n",
              "    </tr>\n",
              "  </tbody>\n",
              "</table>\n",
              "</div>"
            ],
            "text/plain": [
              "       dm_unique_new_customer_cnt  ...  triangle_count\n",
              "23526                           2  ...             2.0\n",
              "41756                           0  ...             3.0\n",
              "45125                           0  ...             1.0\n",
              "28954                           0  ...             3.0\n",
              "16293                           1  ...             7.0\n",
              "\n",
              "[5 rows x 14 columns]"
            ]
          },
          "metadata": {
            "tags": []
          },
          "execution_count": 28
        }
      ]
    },
    {
      "cell_type": "code",
      "metadata": {
        "id": "bUbZHjcYLFvd",
        "colab": {
          "base_uri": "https://localhost:8080/",
          "height": 425
        },
        "outputId": "10426ce5-5f92-4223-f53d-f6baa66e3b2f"
      },
      "source": [
        "#Backward Elimination\n",
        "df_mod = df2.drop(columns=['driver_id', 'merchant_id'])\n",
        "df_cols = list(df_mod.columns)\n",
        "column_names = [\"Removed_feature\", \"Outlier avg\"]\n",
        "outlier_mean_list = pd.DataFrame(columns = column_names)\n",
        "clf = IsolationForest(max_samples=50000, random_state=0)\n",
        "# outlier_mean_list = []\n",
        "for i in list(range(len(df_cols))):\n",
        "    cols = list(df_mod.columns)\n",
        "    feature2remove = cols[i]\n",
        "    print(\"Removing feature\", feature2remove, \"at index\", i)\n",
        "    cols.remove(feature2remove)\n",
        "    X_1_train = train_set[cols]\n",
        "    X_1_test = test_set[cols]\n",
        "    X_1_train = pd.DataFrame(std_pca.fit_transform(X_1_train))\n",
        "    X_1_test = pd.DataFrame(std_pca.transform(X_1_test))\n",
        "    # X_1_train = train_set.drop([feature2remove])\n",
        "    # X_1_test = test_set.drop([feature2remove])\n",
        "    # X_1_train = pd.DataFrame(std_pca.fit_transform(X_1_train))\n",
        "    # X_1_test = pd.DataFrame(std_pca.transform(X_1_test))\n",
        "    print(\"Size of dataset is: \", X_1_test.shape)\n",
        "    output = clf.fit(X_1_train)\n",
        "    out_score = output.decision_function(X_1_test)\n",
        "    outlier_mean = out_score[out_score < -0.1].mean()\n",
        "    outlier_count = len(out_score[out_score < -0.1])\n",
        "    outlier_mean_list = outlier_mean_list.append({'Removed_feature' : feature2remove , \"Outlier avg\" : outlier_mean, \"Number of outliers\" : outlier_count}, ignore_index = True)     \n",
        "  "
      ],
      "execution_count": null,
      "outputs": [
        {
          "output_type": "stream",
          "text": [
            "Removing feature dm_unique_new_customer_cnt at index 0\n",
            "Size of dataset is:  (33000, 5)\n",
            "Removing feature dm_new_cust_order_pct at index 1\n",
            "Size of dataset is:  (33000, 5)\n",
            "Removing feature dm_cash_order_pct at index 2\n",
            "Size of dataset is:  (33000, 5)\n",
            "Removing feature dm_voucher_pct at index 3\n",
            "Size of dataset is:  (33000, 5)\n",
            "Removing feature dm_avg_co_per_s2ID at index 4\n",
            "Size of dataset is:  (33000, 5)\n",
            "Removing feature dm_bad_receipt_cnt at index 5\n",
            "Size of dataset is:  (33000, 5)\n",
            "Removing feature d_co_per_s2id at index 6\n",
            "Size of dataset is:  (33000, 5)\n",
            "Removing feature d_unique_new_customer_cnt at index 7\n",
            "Size of dataset is:  (33000, 5)\n",
            "Removing feature d_new_cust_order_pct at index 8\n",
            "Size of dataset is:  (33000, 5)\n",
            "Removing feature d_voucher_pct at index 9\n",
            "Size of dataset is:  (33000, 5)\n",
            "Removing feature d_bad_receipt_cnt at index 10\n",
            "Size of dataset is:  (33000, 5)\n",
            "Removing feature triangle_count at index 11\n",
            "Size of dataset is:  (33000, 4)\n"
          ],
          "name": "stdout"
        }
      ]
    },
    {
      "cell_type": "code",
      "metadata": {
        "id": "ANVJZOmVSOu9",
        "colab": {
          "base_uri": "https://localhost:8080/",
          "height": 421
        },
        "outputId": "4115dd36-3629-4bac-c229-4250eefd1db2"
      },
      "source": [
        "outlier_mean_list"
      ],
      "execution_count": null,
      "outputs": [
        {
          "output_type": "execute_result",
          "data": {
            "text/html": [
              "<div>\n",
              "<style scoped>\n",
              "    .dataframe tbody tr th:only-of-type {\n",
              "        vertical-align: middle;\n",
              "    }\n",
              "\n",
              "    .dataframe tbody tr th {\n",
              "        vertical-align: top;\n",
              "    }\n",
              "\n",
              "    .dataframe thead th {\n",
              "        text-align: right;\n",
              "    }\n",
              "</style>\n",
              "<table border=\"1\" class=\"dataframe\">\n",
              "  <thead>\n",
              "    <tr style=\"text-align: right;\">\n",
              "      <th></th>\n",
              "      <th>Removed_feature</th>\n",
              "      <th>Outlier avg</th>\n",
              "      <th>Number of outliers</th>\n",
              "    </tr>\n",
              "  </thead>\n",
              "  <tbody>\n",
              "    <tr>\n",
              "      <th>0</th>\n",
              "      <td>dm_unique_new_customer_cnt</td>\n",
              "      <td>-0.156292</td>\n",
              "      <td>257.0</td>\n",
              "    </tr>\n",
              "    <tr>\n",
              "      <th>1</th>\n",
              "      <td>dm_new_cust_order_pct</td>\n",
              "      <td>-0.157472</td>\n",
              "      <td>269.0</td>\n",
              "    </tr>\n",
              "    <tr>\n",
              "      <th>2</th>\n",
              "      <td>dm_cash_order_pct</td>\n",
              "      <td>-0.155041</td>\n",
              "      <td>285.0</td>\n",
              "    </tr>\n",
              "    <tr>\n",
              "      <th>3</th>\n",
              "      <td>dm_voucher_pct</td>\n",
              "      <td>-0.161772</td>\n",
              "      <td>260.0</td>\n",
              "    </tr>\n",
              "    <tr>\n",
              "      <th>4</th>\n",
              "      <td>dm_avg_co_per_s2ID</td>\n",
              "      <td>-0.153258</td>\n",
              "      <td>270.0</td>\n",
              "    </tr>\n",
              "    <tr>\n",
              "      <th>5</th>\n",
              "      <td>dm_bad_receipt_cnt</td>\n",
              "      <td>-0.157380</td>\n",
              "      <td>261.0</td>\n",
              "    </tr>\n",
              "    <tr>\n",
              "      <th>6</th>\n",
              "      <td>d_co_per_s2id</td>\n",
              "      <td>-0.157745</td>\n",
              "      <td>290.0</td>\n",
              "    </tr>\n",
              "    <tr>\n",
              "      <th>7</th>\n",
              "      <td>d_unique_new_customer_cnt</td>\n",
              "      <td>-0.153454</td>\n",
              "      <td>268.0</td>\n",
              "    </tr>\n",
              "    <tr>\n",
              "      <th>8</th>\n",
              "      <td>d_new_cust_order_pct</td>\n",
              "      <td>-0.158333</td>\n",
              "      <td>269.0</td>\n",
              "    </tr>\n",
              "    <tr>\n",
              "      <th>9</th>\n",
              "      <td>d_voucher_pct</td>\n",
              "      <td>-0.159431</td>\n",
              "      <td>274.0</td>\n",
              "    </tr>\n",
              "    <tr>\n",
              "      <th>10</th>\n",
              "      <td>d_bad_receipt_cnt</td>\n",
              "      <td>-0.149430</td>\n",
              "      <td>256.0</td>\n",
              "    </tr>\n",
              "    <tr>\n",
              "      <th>11</th>\n",
              "      <td>triangle_count</td>\n",
              "      <td>-0.149951</td>\n",
              "      <td>260.0</td>\n",
              "    </tr>\n",
              "  </tbody>\n",
              "</table>\n",
              "</div>"
            ],
            "text/plain": [
              "               Removed_feature  Outlier avg  Number of outliers\n",
              "0   dm_unique_new_customer_cnt    -0.156292               257.0\n",
              "1        dm_new_cust_order_pct    -0.157472               269.0\n",
              "2            dm_cash_order_pct    -0.155041               285.0\n",
              "3               dm_voucher_pct    -0.161772               260.0\n",
              "4           dm_avg_co_per_s2ID    -0.153258               270.0\n",
              "5           dm_bad_receipt_cnt    -0.157380               261.0\n",
              "6                d_co_per_s2id    -0.157745               290.0\n",
              "7    d_unique_new_customer_cnt    -0.153454               268.0\n",
              "8         d_new_cust_order_pct    -0.158333               269.0\n",
              "9                d_voucher_pct    -0.159431               274.0\n",
              "10           d_bad_receipt_cnt    -0.149430               256.0\n",
              "11              triangle_count    -0.149951               260.0"
            ]
          },
          "metadata": {
            "tags": []
          },
          "execution_count": 152
        }
      ]
    },
    {
      "cell_type": "code",
      "metadata": {
        "id": "twICaHTLSZga"
      },
      "source": [
        "data_to_csv(outlier_mean_list)"
      ],
      "execution_count": null,
      "outputs": []
    },
    {
      "cell_type": "code",
      "metadata": {
        "id": "YckNMBooRrwc",
        "colab": {
          "base_uri": "https://localhost:8080/",
          "height": 439
        },
        "outputId": "731be472-6251-4652-969b-9906b7cced31"
      },
      "source": [
        "train_set"
      ],
      "execution_count": null,
      "outputs": [
        {
          "output_type": "execute_result",
          "data": {
            "text/html": [
              "<div>\n",
              "<style scoped>\n",
              "    .dataframe tbody tr th:only-of-type {\n",
              "        vertical-align: middle;\n",
              "    }\n",
              "\n",
              "    .dataframe tbody tr th {\n",
              "        vertical-align: top;\n",
              "    }\n",
              "\n",
              "    .dataframe thead th {\n",
              "        text-align: right;\n",
              "    }\n",
              "</style>\n",
              "<table border=\"1\" class=\"dataframe\">\n",
              "  <thead>\n",
              "    <tr style=\"text-align: right;\">\n",
              "      <th></th>\n",
              "      <th>dm_unique_new_customer_cnt</th>\n",
              "      <th>dm_new_cust_order_pct</th>\n",
              "      <th>dm_cash_order_pct</th>\n",
              "      <th>dm_voucher_pct</th>\n",
              "      <th>dm_avg_co_per_s2ID</th>\n",
              "      <th>dm_bad_receipt_cnt</th>\n",
              "      <th>d_co_per_s2id</th>\n",
              "      <th>d_unique_new_customer_cnt</th>\n",
              "      <th>d_new_cust_order_pct</th>\n",
              "      <th>d_voucher_pct</th>\n",
              "      <th>d_bad_receipt_cnt</th>\n",
              "      <th>triangle_count</th>\n",
              "    </tr>\n",
              "  </thead>\n",
              "  <tbody>\n",
              "    <tr>\n",
              "      <th>59428</th>\n",
              "      <td>1</td>\n",
              "      <td>1.000000</td>\n",
              "      <td>0.000000</td>\n",
              "      <td>1.000000</td>\n",
              "      <td>1.00</td>\n",
              "      <td>1</td>\n",
              "      <td>1.507937</td>\n",
              "      <td>67</td>\n",
              "      <td>0.807229</td>\n",
              "      <td>1.000000</td>\n",
              "      <td>83</td>\n",
              "      <td>13.0</td>\n",
              "    </tr>\n",
              "    <tr>\n",
              "      <th>34957</th>\n",
              "      <td>0</td>\n",
              "      <td>0.000000</td>\n",
              "      <td>1.000000</td>\n",
              "      <td>0.000000</td>\n",
              "      <td>2.75</td>\n",
              "      <td>1</td>\n",
              "      <td>2.938776</td>\n",
              "      <td>0</td>\n",
              "      <td>0.000000</td>\n",
              "      <td>0.500000</td>\n",
              "      <td>2</td>\n",
              "      <td>7.0</td>\n",
              "    </tr>\n",
              "    <tr>\n",
              "      <th>4264</th>\n",
              "      <td>0</td>\n",
              "      <td>0.000000</td>\n",
              "      <td>1.000000</td>\n",
              "      <td>1.000000</td>\n",
              "      <td>1.80</td>\n",
              "      <td>5</td>\n",
              "      <td>7.491803</td>\n",
              "      <td>77</td>\n",
              "      <td>0.534247</td>\n",
              "      <td>0.876712</td>\n",
              "      <td>146</td>\n",
              "      <td>3.0</td>\n",
              "    </tr>\n",
              "    <tr>\n",
              "      <th>53791</th>\n",
              "      <td>0</td>\n",
              "      <td>0.000000</td>\n",
              "      <td>0.000000</td>\n",
              "      <td>0.000000</td>\n",
              "      <td>1.00</td>\n",
              "      <td>1</td>\n",
              "      <td>4.491525</td>\n",
              "      <td>27</td>\n",
              "      <td>0.421875</td>\n",
              "      <td>0.890625</td>\n",
              "      <td>64</td>\n",
              "      <td>1.0</td>\n",
              "    </tr>\n",
              "    <tr>\n",
              "      <th>82114</th>\n",
              "      <td>2</td>\n",
              "      <td>0.666667</td>\n",
              "      <td>0.333333</td>\n",
              "      <td>1.000000</td>\n",
              "      <td>1.00</td>\n",
              "      <td>3</td>\n",
              "      <td>1.700730</td>\n",
              "      <td>127</td>\n",
              "      <td>0.830065</td>\n",
              "      <td>0.993464</td>\n",
              "      <td>153</td>\n",
              "      <td>23.0</td>\n",
              "    </tr>\n",
              "    <tr>\n",
              "      <th>...</th>\n",
              "      <td>...</td>\n",
              "      <td>...</td>\n",
              "      <td>...</td>\n",
              "      <td>...</td>\n",
              "      <td>...</td>\n",
              "      <td>...</td>\n",
              "      <td>...</td>\n",
              "      <td>...</td>\n",
              "      <td>...</td>\n",
              "      <td>...</td>\n",
              "      <td>...</td>\n",
              "      <td>...</td>\n",
              "    </tr>\n",
              "    <tr>\n",
              "      <th>6265</th>\n",
              "      <td>0</td>\n",
              "      <td>0.000000</td>\n",
              "      <td>1.000000</td>\n",
              "      <td>0.333333</td>\n",
              "      <td>1.25</td>\n",
              "      <td>3</td>\n",
              "      <td>6.440000</td>\n",
              "      <td>24</td>\n",
              "      <td>0.303797</td>\n",
              "      <td>0.658228</td>\n",
              "      <td>79</td>\n",
              "      <td>4.0</td>\n",
              "    </tr>\n",
              "    <tr>\n",
              "      <th>54886</th>\n",
              "      <td>0</td>\n",
              "      <td>0.000000</td>\n",
              "      <td>1.000000</td>\n",
              "      <td>1.000000</td>\n",
              "      <td>1.00</td>\n",
              "      <td>1</td>\n",
              "      <td>1.708738</td>\n",
              "      <td>55</td>\n",
              "      <td>0.785714</td>\n",
              "      <td>1.000000</td>\n",
              "      <td>70</td>\n",
              "      <td>2.0</td>\n",
              "    </tr>\n",
              "    <tr>\n",
              "      <th>76820</th>\n",
              "      <td>1</td>\n",
              "      <td>1.000000</td>\n",
              "      <td>0.000000</td>\n",
              "      <td>1.000000</td>\n",
              "      <td>1.00</td>\n",
              "      <td>1</td>\n",
              "      <td>1.489362</td>\n",
              "      <td>108</td>\n",
              "      <td>0.782609</td>\n",
              "      <td>1.000000</td>\n",
              "      <td>138</td>\n",
              "      <td>11.0</td>\n",
              "    </tr>\n",
              "    <tr>\n",
              "      <th>860</th>\n",
              "      <td>1</td>\n",
              "      <td>1.000000</td>\n",
              "      <td>0.000000</td>\n",
              "      <td>1.000000</td>\n",
              "      <td>1.00</td>\n",
              "      <td>1</td>\n",
              "      <td>1.518367</td>\n",
              "      <td>178</td>\n",
              "      <td>0.967391</td>\n",
              "      <td>0.994565</td>\n",
              "      <td>184</td>\n",
              "      <td>4.0</td>\n",
              "    </tr>\n",
              "    <tr>\n",
              "      <th>15795</th>\n",
              "      <td>1</td>\n",
              "      <td>1.000000</td>\n",
              "      <td>0.000000</td>\n",
              "      <td>1.000000</td>\n",
              "      <td>1.00</td>\n",
              "      <td>1</td>\n",
              "      <td>1.683206</td>\n",
              "      <td>192</td>\n",
              "      <td>0.932367</td>\n",
              "      <td>1.000000</td>\n",
              "      <td>207</td>\n",
              "      <td>3.0</td>\n",
              "    </tr>\n",
              "  </tbody>\n",
              "</table>\n",
              "<p>67000 rows × 12 columns</p>\n",
              "</div>"
            ],
            "text/plain": [
              "       dm_unique_new_customer_cnt  ...  triangle_count\n",
              "59428                           1  ...            13.0\n",
              "34957                           0  ...             7.0\n",
              "4264                            0  ...             3.0\n",
              "53791                           0  ...             1.0\n",
              "82114                           2  ...            23.0\n",
              "...                           ...  ...             ...\n",
              "6265                            0  ...             4.0\n",
              "54886                           0  ...             2.0\n",
              "76820                           1  ...            11.0\n",
              "860                             1  ...             4.0\n",
              "15795                           1  ...             3.0\n",
              "\n",
              "[67000 rows x 12 columns]"
            ]
          },
          "metadata": {
            "tags": []
          },
          "execution_count": 149
        }
      ]
    },
    {
      "cell_type": "code",
      "metadata": {
        "id": "qk6pNKypfSqy",
        "colab": {
          "base_uri": "https://localhost:8080/",
          "height": 421
        },
        "outputId": "f5b2199a-4dc4-4726-8864-ab448192a769"
      },
      "source": [
        "outlier_mean_list"
      ],
      "execution_count": null,
      "outputs": [
        {
          "output_type": "execute_result",
          "data": {
            "text/html": [
              "<div>\n",
              "<style scoped>\n",
              "    .dataframe tbody tr th:only-of-type {\n",
              "        vertical-align: middle;\n",
              "    }\n",
              "\n",
              "    .dataframe tbody tr th {\n",
              "        vertical-align: top;\n",
              "    }\n",
              "\n",
              "    .dataframe thead th {\n",
              "        text-align: right;\n",
              "    }\n",
              "</style>\n",
              "<table border=\"1\" class=\"dataframe\">\n",
              "  <thead>\n",
              "    <tr style=\"text-align: right;\">\n",
              "      <th></th>\n",
              "      <th>Removed_feature</th>\n",
              "      <th>Outlier avg</th>\n",
              "      <th>Number of outliers</th>\n",
              "    </tr>\n",
              "  </thead>\n",
              "  <tbody>\n",
              "    <tr>\n",
              "      <th>0</th>\n",
              "      <td>dm_unique_new_customer_cnt</td>\n",
              "      <td>-0.15158</td>\n",
              "      <td>273.0</td>\n",
              "    </tr>\n",
              "    <tr>\n",
              "      <th>1</th>\n",
              "      <td>dm_new_cust_order_pct</td>\n",
              "      <td>-0.15158</td>\n",
              "      <td>273.0</td>\n",
              "    </tr>\n",
              "    <tr>\n",
              "      <th>2</th>\n",
              "      <td>dm_cash_order_pct</td>\n",
              "      <td>-0.15158</td>\n",
              "      <td>273.0</td>\n",
              "    </tr>\n",
              "    <tr>\n",
              "      <th>3</th>\n",
              "      <td>dm_voucher_pct</td>\n",
              "      <td>-0.15158</td>\n",
              "      <td>273.0</td>\n",
              "    </tr>\n",
              "    <tr>\n",
              "      <th>4</th>\n",
              "      <td>dm_avg_co_per_s2ID</td>\n",
              "      <td>-0.15158</td>\n",
              "      <td>273.0</td>\n",
              "    </tr>\n",
              "    <tr>\n",
              "      <th>5</th>\n",
              "      <td>dm_bad_receipt_cnt</td>\n",
              "      <td>-0.15158</td>\n",
              "      <td>273.0</td>\n",
              "    </tr>\n",
              "    <tr>\n",
              "      <th>6</th>\n",
              "      <td>d_co_per_s2id</td>\n",
              "      <td>-0.15158</td>\n",
              "      <td>273.0</td>\n",
              "    </tr>\n",
              "    <tr>\n",
              "      <th>7</th>\n",
              "      <td>d_unique_new_customer_cnt</td>\n",
              "      <td>-0.15158</td>\n",
              "      <td>273.0</td>\n",
              "    </tr>\n",
              "    <tr>\n",
              "      <th>8</th>\n",
              "      <td>d_new_cust_order_pct</td>\n",
              "      <td>-0.15158</td>\n",
              "      <td>273.0</td>\n",
              "    </tr>\n",
              "    <tr>\n",
              "      <th>9</th>\n",
              "      <td>d_voucher_pct</td>\n",
              "      <td>-0.15158</td>\n",
              "      <td>273.0</td>\n",
              "    </tr>\n",
              "    <tr>\n",
              "      <th>10</th>\n",
              "      <td>d_bad_receipt_cnt</td>\n",
              "      <td>-0.15158</td>\n",
              "      <td>273.0</td>\n",
              "    </tr>\n",
              "    <tr>\n",
              "      <th>11</th>\n",
              "      <td>triangle_count</td>\n",
              "      <td>-0.15158</td>\n",
              "      <td>273.0</td>\n",
              "    </tr>\n",
              "  </tbody>\n",
              "</table>\n",
              "</div>"
            ],
            "text/plain": [
              "               Removed_feature  Outlier avg  Number of outliers\n",
              "0   dm_unique_new_customer_cnt     -0.15158               273.0\n",
              "1        dm_new_cust_order_pct     -0.15158               273.0\n",
              "2            dm_cash_order_pct     -0.15158               273.0\n",
              "3               dm_voucher_pct     -0.15158               273.0\n",
              "4           dm_avg_co_per_s2ID     -0.15158               273.0\n",
              "5           dm_bad_receipt_cnt     -0.15158               273.0\n",
              "6                d_co_per_s2id     -0.15158               273.0\n",
              "7    d_unique_new_customer_cnt     -0.15158               273.0\n",
              "8         d_new_cust_order_pct     -0.15158               273.0\n",
              "9                d_voucher_pct     -0.15158               273.0\n",
              "10           d_bad_receipt_cnt     -0.15158               273.0\n",
              "11              triangle_count     -0.15158               273.0"
            ]
          },
          "metadata": {
            "tags": []
          },
          "execution_count": 110
        }
      ]
    }
  ]
}